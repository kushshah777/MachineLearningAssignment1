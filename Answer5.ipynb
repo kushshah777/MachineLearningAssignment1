{
  "nbformat": 4,
  "nbformat_minor": 0,
  "metadata": {
    "colab": {
      "name": "Answer5.ipynb",
      "version": "0.3.2",
      "provenance": [],
      "include_colab_link": true
    },
    "kernelspec": {
      "name": "python3",
      "display_name": "Python 3"
    }
  },
  "cells": [
    {
      "cell_type": "markdown",
      "metadata": {
        "id": "view-in-github",
        "colab_type": "text"
      },
      "source": [
        "<a href=\"https://colab.research.google.com/github/kushshah777/MachineLearningAssignment1/blob/master/Answer5.ipynb\" target=\"_parent\"><img src=\"https://colab.research.google.com/assets/colab-badge.svg\" alt=\"Open In Colab\"/></a>"
      ]
    },
    {
      "metadata": {
        "id": "qNspLWfvZg_4",
        "colab_type": "code",
        "colab": {}
      },
      "cell_type": "code",
      "source": [
        "import numpy as np\n",
        "import matplotlib \n",
        "import matplotlib.pyplot as plt\n",
        "import scipy\n",
        "import cv2\n",
        "import keras\n",
        "from keras.datasets import mnist\n",
        "from keras import backend as K\n",
        "from scipy import ndimage\n",
        "from skimage import util\n",
        "from keras.models import Sequential\n",
        "from keras.layers import Dense\n",
        "from keras import optimizers\n",
        "from keras.layers import Input\n",
        "from keras import layers\n",
        "from keras import Model\n",
        "rows = 28\n",
        "columns= 28\n",
        "dimension= rows*columns\n",
        "handcrafted_feature = 1"
      ],
      "execution_count": 0,
      "outputs": []
    },
    {
      "metadata": {
        "id": "6u1y9hKuqFTK",
        "colab_type": "text"
      },
      "cell_type": "markdown",
      "source": [
        "Load mnist dataset so that we can find the connected components"
      ]
    },
    {
      "metadata": {
        "id": "-6zHbT_yaVjR",
        "colab_type": "code",
        "colab": {}
      },
      "cell_type": "code",
      "source": [
        "(x_train,y_train),(x_test,y_test) = mnist.load_data()\n",
        "\n",
        "\n",
        "  "
      ],
      "execution_count": 0,
      "outputs": []
    },
    {
      "metadata": {
        "id": "6W8pn7U9qWlj",
        "colab_type": "text"
      },
      "cell_type": "markdown",
      "source": [
        "To convert grayscale images in 0 or 1 i.e black or white i used cv2 so the method cv2.threshold does is: if the pixel value is greater than the value passed in its parameter it will assign black or white image accordingly here i have selected 120 as pixel value\n"
      ]
    },
    {
      "metadata": {
        "id": "U3tEJdind77Y",
        "colab_type": "code",
        "colab": {}
      },
      "cell_type": "code",
      "source": [
        "for i in range(len(x_train)):\n",
        "  img=x_train[i]\n",
        "  threshold=120\n",
        "  x_train[i]=cv2.threshold(img,threshold,255,cv2.THRESH_BINARY)[1]\n",
        "for i in range(len(x_test)):\n",
        "  img=x_train[i]\n",
        "  threshold=120\n",
        "  x_test[i]=cv2.threshold(img,threshold,255,cv2.THRESH_BINARY)[1]\n",
        "  "
      ],
      "execution_count": 0,
      "outputs": []
    },
    {
      "metadata": {
        "id": "tPvmP5ZceHz5",
        "colab_type": "code",
        "colab": {}
      },
      "cell_type": "code",
      "source": [
        "x_train=x_train/255.0; #to normalize data\n",
        "x_train=x_train/255.0; #to normalize data"
      ],
      "execution_count": 0,
      "outputs": []
    },
    {
      "metadata": {
        "id": "NTZmOpELrWA2",
        "colab_type": "text"
      },
      "cell_type": "markdown",
      "source": [
        "Use the following code to visualize the image\n"
      ]
    },
    {
      "metadata": {
        "id": "YFWYj16Jb9K7",
        "colab_type": "code",
        "colab": {
          "base_uri": "https://localhost:8080/",
          "height": 364
        },
        "outputId": "c2bb7501-2712-429a-a626-08f0be704851"
      },
      "cell_type": "code",
      "source": [
        "visualize = 9\n",
        "index= -1\n",
        "for i in range(len(y_train)):\n",
        "  if y_train[i] == visualize:\n",
        "    index =i\n",
        "    break;\n",
        "inverted=(x_train[index])\n",
        "plt.grid(None)\n",
        "plt.imshow(inverted)\n"
      ],
      "execution_count": 45,
      "outputs": [
        {
          "output_type": "execute_result",
          "data": {
            "text/plain": [
              "<matplotlib.image.AxesImage at 0x7f3ad2f328d0>"
            ]
          },
          "metadata": {
            "tags": []
          },
          "execution_count": 45
        },
        {
          "output_type": "display_data",
          "data": {
            "image/png": "[encoded data removed]",
            "text/plain": [
              "<Figure size 576x396 with 1 Axes>"
            ]
          },
          "metadata": {
            "tags": []
          }
        }
      ]
    },
    {
      "metadata": {
        "id": "MjyiTdpdrghz",
        "colab_type": "text"
      },
      "cell_type": "markdown",
      "source": [
        "We make vectors trainconnectedcomponents and testconnectedcomponents to hold the connected component data and then we use cipy.ndimage function to label it and get connected components\n"
      ]
    },
    {
      "metadata": {
        "id": "sgT2Lq6cfEbi",
        "colab_type": "code",
        "colab": {}
      },
      "cell_type": "code",
      "source": [
        "trainconnectedcomponents=np.zeros_like(y_train)\n",
        "testconnectedcomponents=np.zeros_like(y_test)\n",
        "\n",
        "for i in range(len(trainconnectedcomponents)):\n",
        "  label,nearobjects=ndimage.label(util.invert(x_train[i]))\n",
        "  trainconnectedcomponents[i] = nearobjects\n",
        "for i in range(len(testconnectedcomponents)):\n",
        "  label, nearobjects=ndimage.label(util.invert(x_train[i]))\n",
        "  testconnectedcomponents[i]=nearobjects"
      ],
      "execution_count": 0,
      "outputs": []
    },
    {
      "metadata": {
        "id": "ZW9u2C_MsNH6",
        "colab_type": "text"
      },
      "cell_type": "markdown",
      "source": [
        "Preparing data and normalizing with flatenning data \n"
      ]
    },
    {
      "metadata": {
        "id": "kb5_OYQ5f5e5",
        "colab_type": "code",
        "colab": {}
      },
      "cell_type": "code",
      "source": [
        "(x_train,y_train),(x_test,y_test) = mnist.load_data()\n",
        "\n",
        "if K.image_data_format()=='channels_first':\n",
        "  x_train=x_train.reshape(x_train.shape[0],1,rows,columns)\n",
        "  x_test=x_test.reshape(x_test.shape[0],1,rows,columns)\n",
        "  inputvectorshape=(1,rows,columns)\n",
        "else:\n",
        "  x_train=x_train.reshape(x_train.shape[0],rows,columns,1)\n",
        "  x_test=x_test.reshape(x_test.shape[0],rows,columns,1)\n",
        "  inputvectorshape=(1,rows,columns)\n",
        "\n",
        "\n"
      ],
      "execution_count": 0,
      "outputs": []
    },
    {
      "metadata": {
        "id": "UOs0i_i1fEYs",
        "colab_type": "code",
        "colab": {}
      },
      "cell_type": "code",
      "source": [
        "x_train=x_train/ 255.0;\n",
        "x_test=x_test/ 255.0;\n",
        "\n",
        "\n",
        "trainconnectedcomponents=trainconnectedcomponents / 4\n",
        "testconnectedcomponents=testconnectedcomponents / 4\n"
      ],
      "execution_count": 0,
      "outputs": []
    },
    {
      "metadata": {
        "id": "2ZL0UgWThOE3",
        "colab_type": "code",
        "colab": {}
      },
      "cell_type": "code",
      "source": [
        "y_train=keras.utils.to_categorical(y_train,10)\n",
        "y_test=keras.utils.to_categorical(y_test,10)"
      ],
      "execution_count": 0,
      "outputs": []
    },
    {
      "metadata": {
        "id": "-RW2u2yThu3L",
        "colab_type": "code",
        "colab": {}
      },
      "cell_type": "code",
      "source": [
        "x_train=x_train.reshape(x_train.shape[0],-1)\n",
        "x_test=x_test.reshape(x_test.shape[0],-1)\n",
        "y_train=y_train.T\n",
        "y_train=y_train.T\n"
      ],
      "execution_count": 0,
      "outputs": []
    },
    {
      "metadata": {
        "id": "Loi0jXIhsbSO",
        "colab_type": "text"
      },
      "cell_type": "markdown",
      "source": [
        "There are 64 input neurons and has the activation function of sigmoid as we can just do 0 or 1 we do activation on input layer and then we add it with the hand crafted feature vector and then finally the output layer would be 10 neurons as always in this homework and then at the output layer we can use softmax which can recognize 10 classifiers and use that as activation function ."
      ]
    },
    {
      "metadata": {
        "id": "3Lf9CKhlh9dN",
        "colab_type": "code",
        "colab": {}
      },
      "cell_type": "code",
      "source": [
        "inputvectorshape= Input((dimension,))\n",
        "featurevectorofconnectedcomponent= Input((handcrafted_feature,))\n",
        "imagevector = Dense(64, activation=\"sigmoid\")(inputvectorshape)\n",
        "outputmodel = layers.add([ imagevector, featurevectorofconnectedcomponent])\n",
        "outputmodel = Dense(10, activation=\"softmax\")(outputmodel)\n",
        "outputmodel = Model([inputvectorshape,featurevectorofconnectedcomponent], outputmodel)"
      ],
      "execution_count": 0,
      "outputs": []
    },
    {
      "metadata": {
        "id": "paJTRDfQtCbe",
        "colab_type": "text"
      },
      "cell_type": "markdown",
      "source": [
        "We use schocastic gradient descent optimizer to optimize the code"
      ]
    },
    {
      "metadata": {
        "id": "c84WXze-i_M5",
        "colab_type": "code",
        "colab": {
          "base_uri": "https://localhost:8080/",
          "height": 428
        },
        "outputId": "c8af4738-5fdd-48e1-d55f-543ee093d90d"
      },
      "cell_type": "code",
      "source": [
        "schocasticgradientdescent= optimizers.SGD(lr=0.1)\n",
        "outputmodel.compile(optimizer=schocasticgradientdescent, loss=\"categorical_crossentropy\", metrics=[\"accuracy\"])\n",
        "outputmodel.fit([x_train,trainconnectedcomponents], y_train, nb_epoch=10, batch_size=32)\n"
      ],
      "execution_count": 52,
      "outputs": [
        {
          "output_type": "stream",
          "text": [
            "/usr/local/lib/python3.6/dist-packages/ipykernel_launcher.py:3: UserWarning: The `nb_epoch` argument in `fit` has been renamed `epochs`.\n",
            "  This is separate from the ipykernel package so we can avoid doing imports until\n"
          ],
          "name": "stderr"
        },
        {
          "output_type": "stream",
          "text": [
            "Epoch 1/10\n",
            "60000/60000 [==============================] - 3s 52us/step - loss: 0.5666 - acc: 0.8513\n",
            "Epoch 2/10\n",
            "60000/60000 [==============================] - 3s 49us/step - loss: 0.2932 - acc: 0.9161\n",
            "Epoch 3/10\n",
            "60000/60000 [==============================] - 3s 49us/step - loss: 0.2458 - acc: 0.9289\n",
            "Epoch 4/10\n",
            "60000/60000 [==============================] - 3s 49us/step - loss: 0.2135 - acc: 0.9386\n",
            "Epoch 5/10\n",
            "60000/60000 [==============================] - 3s 49us/step - loss: 0.1906 - acc: 0.9453\n",
            "Epoch 6/10\n",
            "60000/60000 [==============================] - 3s 49us/step - loss: 0.1725 - acc: 0.9504\n",
            "Epoch 7/10\n",
            "60000/60000 [==============================] - 3s 49us/step - loss: 0.1576 - acc: 0.9548\n",
            "Epoch 8/10\n",
            "60000/60000 [==============================] - 3s 50us/step - loss: 0.1450 - acc: 0.9585\n",
            "Epoch 9/10\n",
            "60000/60000 [==============================] - 3s 50us/step - loss: 0.1350 - acc: 0.9615\n",
            "Epoch 10/10\n",
            "60000/60000 [==============================] - 3s 49us/step - loss: 0.1261 - acc: 0.9639\n"
          ],
          "name": "stdout"
        },
        {
          "output_type": "execute_result",
          "data": {
            "text/plain": [
              "<keras.callbacks.History at 0x7f3ad3751080>"
            ]
          },
          "metadata": {
            "tags": []
          },
          "execution_count": 52
        }
      ]
    },
    {
      "metadata": {
        "id": "Pp-_HRbjjowL",
        "colab_type": "code",
        "colab": {
          "base_uri": "https://localhost:8080/",
          "height": 34
        },
        "outputId": "5ca6fdfa-a94e-475e-d6f0-4c294eadf807"
      },
      "cell_type": "code",
      "source": [
        "testresults=outputmodel.evaluate([x_test,testconnectedcomponents], y_test, verbose=0)\n",
        "print('Accuracy:', testresults[1]*100, '%')"
      ],
      "execution_count": 54,
      "outputs": [
        {
          "output_type": "stream",
          "text": [
            "Accuracy: 96.00999999999999 %\n"
          ],
          "name": "stdout"
        }
      ]
    }
  ]
}
